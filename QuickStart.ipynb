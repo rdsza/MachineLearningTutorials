{
  "cells": [
    {
      "cell_type": "markdown",
      "metadata": {
        "colab_type": "text",
        "id": "view-in-github"
      },
      "source": [
        "<a href=\"https://colab.research.google.com/github/rdsza/PytorchExamples/blob/main/QuickStart.ipynb\" target=\"_parent\"><img src=\"https://colab.research.google.com/assets/colab-badge.svg\" alt=\"Open In Colab\"/></a>"
      ]
    },
    {
      "cell_type": "markdown",
      "metadata": {},
      "source": [
        "### generate a synthetic dataset \n",
        "three gaussian mixtures of different standard deviations, placed at different locations in 2D space and plot them using scatter plot\n"
      ]
    },
    {
      "cell_type": "code",
      "execution_count": null,
      "metadata": {},
      "outputs": [],
      "source": [
        "import numpy as np\n",
        "import matplotlib.pyplot as plt\n",
        "from sklearn.datasets import make_blobs\n",
        "\n",
        "# Generate the data\n",
        "X, y = make_blobs(n_samples=1500, centers=3,\n",
        "                  cluster_std=[1.0, 3.5, 0.5],\n",
        "                  random_state=42)\n",
        "\n",
        "# Plot the data\n",
        "plt.scatter(X[:, 0], X[:, 1], c=y, s=50)\n",
        "plt.show()"
      ]
    }
  ],
  "metadata": {
    "colab": {
      "authorship_tag": "ABX9TyOzKO3nQbJvvpvRhxinQ+W4",
      "include_colab_link": true,
      "provenance": []
    },
    "kernelspec": {
      "display_name": "Python 3",
      "name": "python3"
    },
    "language_info": {
      "name": "python"
    }
  },
  "nbformat": 4,
  "nbformat_minor": 0
}
